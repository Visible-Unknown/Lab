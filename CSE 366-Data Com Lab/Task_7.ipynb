{
  "nbformat": 4,
  "nbformat_minor": 0,
  "metadata": {
    "colab": {
      "provenance": []
    },
    "kernelspec": {
      "name": "python3",
      "display_name": "Python 3"
    },
    "language_info": {
      "name": "python"
    }
  },
  "cells": [
    {
      "cell_type": "markdown",
      "source": [
        "#### Al-Amin\n",
        "#### Reg. No.: 2020331057\n",
        "##### Session: 2020-2021\n",
        "##### Dept. of Computer Science and Engineering, SUST\n",
        "\n",
        "\n",
        "---\n",
        "\n"
      ],
      "metadata": {
        "id": "GJ7k-QqtcdwM"
      }
    },
    {
      "cell_type": "markdown",
      "source": [
        "\n",
        "One real-life example in data communication engineering is the transmission of data packets over a network using `TCP/IP` (Transmission Control Protocol/Internet Protocol). This process involves multiple steps and concepts critical to understanding how data is reliably sent and received over the internet. Let's break down a scenario:\n",
        "# Scenario: Sending an Email\n",
        "\n",
        "1.   **Data Preparation and Segmentation:**\n",
        "*   When you send an email, the content of the email (text, attachments, etc.) is prepared for transmission. This data is broken down into smaller units called packets because the network can more efficiently manage and transmit smaller packets.\n",
        "\n",
        "\n",
        "\n",
        "2.   **Adding Headers and Footers:**\n",
        "\n",
        "*   Each packet is encapsulated with headers and footers containing important information like source and destination IP addresses, sequence numbers, and error-checking codes (like checksums). This process is handled by protocols like TCP and IP.\n",
        "\n",
        "\n",
        "3.   **Transmission over the Network:**\n",
        "\n",
        "* The packets are transmitted from your device to the email server over various network nodes, such as routers and switches. Each node reads the destination address in the packet header and forwards the packet to the next node closer to the destination.\n",
        "4.   **Handling Network Errors:**\n",
        "\n",
        "* As packets travel across the network, they may encounter errors due to noise, interference, or other issues. To ensure data integrity, protocols like TCP implement error detection and correction techniques.\n",
        "* Error Detection (e.g., Even Parity): Each packet includes error-detecting codes. For example, even parity ensures that the number of 1s in the packet is even. If the received packet has an odd number of 1s, an error is detected.\n",
        "* Error Correction: When an error is detected, the receiving device can request retransmission of the corrupted packet. TCP manages these retransmissions to ensure all data arrives correctly.\n",
        "\n",
        "5. **Reassembly and Delivery:**\n",
        "\n",
        "* Once all packets reach the destination, they are reassembled in the correct order based on sequence numbers in their headers.\n",
        "* The reassembled data is then delivered to the email server, which processes and stores the email in the recipient's inbox.   \n",
        "\n",
        "\n",
        "#Concepts Illustrated:\n",
        "\n",
        "1. **Segmentation and Reassembly:** Data is divided into packets for efficient transmission and then reassembled at the destination.\n",
        "2. **Encapsulation:** Data packets are encapsulated with headers and footers containing vital routing and error-checking information.\n",
        "3. **Routing:** Packets are routed through various network nodes based on IP addresses.\n",
        "4. **Error Detection and Correction:** Techniques like even parity ensure data integrity by detecting and correcting errors during transmission.\n",
        "5. **Protocols:** Protocols like TCP and IP define the rules and procedures for data communication, ensuring reliable and efficient data transfer.\n",
        "\n",
        "\n",
        "#Technical Details:\n",
        "\n",
        "1. **Even Parity Error Detection:**\n",
        "* In our email example, if a packet's data segment is `10111010`, the even parity bit would be added to make the number of 1s even. Here, there are five 1s, so the parity bit would be 1, making it `101110101`.\n",
        "* When the packet is received, the parity bit is checked. If the number of 1s (including the parity bit) is not even, an error is detected.\n",
        "\n",
        "# Example Code:\n",
        "Here's a simplified Python example to demonstrate error detection using even parity in the context of data transmission."
      ],
      "metadata": {
        "id": "1J-xC_YicpoY"
      }
    },
    {
      "cell_type": "code",
      "execution_count": 2,
      "metadata": {
        "colab": {
          "base_uri": "https://localhost:8080/"
        },
        "id": "W-byv6E_cYun",
        "outputId": "b0a97a08-d5e0-49c5-be4d-775353e76036"
      },
      "outputs": [
        {
          "output_type": "stream",
          "name": "stdout",
          "text": [
            "Original Data Block with Parity Bits:\n",
            "1 0 1 1 1 0 1 0 | 1\n",
            "1 1 0 0 1 0 0 0 | 1\n",
            "0 0 0 1 1 0 1 0 | 1\n",
            "1 1 1 1 0 1 0 1 | 0\n",
            "\n",
            "Received Data Block with Parity Bits:\n",
            "1 0 1 1 1 0 1 0 | 1\n",
            "1 1 0 0 1 0 0 0 | 1\n",
            "0 0 0 1 1 0 1 0 | 1\n",
            "1 1 1 1 0 1 0 1 | 0\n",
            "\n",
            "No errors detected.\n"
          ]
        }
      ],
      "source": [
        "def calculate_parity(byte):\n",
        "    \"\"\"\n",
        "    Calculate the parity bit for the byte to ensure even parity.\n",
        "    \"\"\"\n",
        "    count = byte.count('1')\n",
        "    return '0' if count % 2 == 0 else '1'\n",
        "\n",
        "def add_parity_bits(data):\n",
        "    \"\"\"\n",
        "    Add parity bits to each byte in the block.\n",
        "    Returns a list of tuples with original byte and its parity bit.\n",
        "    \"\"\"\n",
        "    packets = []\n",
        "    for byte in data:\n",
        "        parity_bit = calculate_parity(byte)\n",
        "        packets.append((byte, parity_bit))\n",
        "    return packets\n",
        "\n",
        "def check_parity(packets):\n",
        "    \"\"\"\n",
        "    Check if each byte in the block has even parity.\n",
        "    Returns a list of boolean values indicating if each row has an error.\n",
        "    \"\"\"\n",
        "    errors = []\n",
        "    for byte, parity_bit in packets:\n",
        "        calculated_parity = calculate_parity(byte)\n",
        "        errors.append(parity_bit != calculated_parity)\n",
        "    return errors\n",
        "\n",
        "def print_block_with_parity(block, title):\n",
        "    \"\"\"\n",
        "    Print the block with parity bits for visual verification.\n",
        "    \"\"\"\n",
        "    print(title)\n",
        "    for byte, parity_bit in block:\n",
        "        print(' '.join(byte), '|', parity_bit)\n",
        "    print()\n",
        "\n",
        "def main():\n",
        "    # Original 4x8 block of data\n",
        "    original_data = [\n",
        "        '10111010',  # Row 1\n",
        "        '11001000',  # Row 2\n",
        "        '00011010',  # Row 3\n",
        "        '11110101'   # Row 4\n",
        "    ]\n",
        "\n",
        "    # Add parity bits to the original block\n",
        "    original_block_with_parity = add_parity_bits(original_data)\n",
        "\n",
        "    # Simulate received block (which could have errors)\n",
        "    received_block_with_parity = original_block_with_parity.copy()\n",
        "    # To simulate an error, you can modify a bit in the received block\n",
        "    # For example, uncomment the following line to introduce an error:\n",
        "    # received_block_with_parity[1] = ('11001000', '0')  # Introduce an error in row 2\n",
        "\n",
        "    print_block_with_parity(original_block_with_parity, \"Original Data Block with Parity Bits:\")\n",
        "    print_block_with_parity(received_block_with_parity, \"Received Data Block with Parity Bits:\")\n",
        "\n",
        "    errors = check_parity(received_block_with_parity)\n",
        "    if any(errors):\n",
        "        for i, error in enumerate(errors):\n",
        "            if error:\n",
        "                print(f\"Error detected in row {i + 1}\")\n",
        "    else:\n",
        "        print(\"No errors detected.\")\n",
        "\n",
        "if __name__ == \"__main__\":\n",
        "    main()\n"
      ]
    }
  ]
}