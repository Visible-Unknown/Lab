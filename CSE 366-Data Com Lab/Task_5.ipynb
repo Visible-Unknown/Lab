{
  "nbformat": 4,
  "nbformat_minor": 0,
  "metadata": {
    "colab": {
      "provenance": []
    },
    "kernelspec": {
      "name": "python3",
      "display_name": "Python 3"
    },
    "language_info": {
      "name": "python"
    }
  },
  "cells": [
    {
      "cell_type": "markdown",
      "source": [
        "#### Al-Amin\n",
        "#### Reg. No.: 2020331057\n",
        "##### Session: 2020-2021\n",
        "##### Dept. of Computer Science and Engineering, SUST"
      ],
      "metadata": {
        "id": "p7o18NthQ69v"
      }
    },
    {
      "cell_type": "code",
      "execution_count": 5,
      "metadata": {
        "colab": {
          "base_uri": "https://localhost:8080/"
        },
        "id": "Zg8wdq9_QoSR",
        "outputId": "5e2c1323-a456-4d85-d30c-da84e441881a"
      },
      "outputs": [
        {
          "output_type": "stream",
          "name": "stdout",
          "text": [
            "Original Data Block with Parity Bits:\n",
            "1 0 1 1 1 0 1 0 1\n",
            "1 1 0 0 1 0 0 0 1\n",
            "0 0 0 1 1 0 1 0 1\n",
            "1 1 1 1 0 1 0 1 0\n",
            "\n",
            "Received Data Block with Parity Bits:\n",
            "1 0 1 1 1 0 1 0 1\n",
            "1 1 0 0 1 0 0 0 1\n",
            "0 0 0 1 1 0 1 0 1\n",
            "1 1 1 1 0 1 0 1 0\n",
            "\n",
            "No errors detected.\n"
          ]
        }
      ],
      "source": [
        "# 4 x 8 block even parity error detection\n",
        "\n",
        "def calculate_parity(byte):\n",
        "    \"\"\"\n",
        "    Calculate the parity bit for the byte to ensure even parity.\n",
        "    \"\"\"\n",
        "    count = 0\n",
        "    for bit in byte:\n",
        "        if bit == '1':\n",
        "            count += 1\n",
        "    # If count of 1s is even, parity bit is 0; otherwise, it is 1\n",
        "    return '0' if count % 2 == 0 else '1'\n",
        "\n",
        "def add_parity_bits(block):\n",
        "    \"\"\"\n",
        "    Add parity bits to each byte in the block.\n",
        "    Returns a new block with parity bits.\n",
        "    \"\"\"\n",
        "    new_block = []\n",
        "    for row in block:\n",
        "        parity_bit = calculate_parity(row)\n",
        "        new_block.append(row + parity_bit)\n",
        "    return new_block\n",
        "\n",
        "def check_parity(block):\n",
        "    \"\"\"\n",
        "    Check if each byte in the block has even parity.\n",
        "    Returns a list of boolean values indicating if each row has an error.\n",
        "    \"\"\"\n",
        "    errors = []\n",
        "    for row in block:\n",
        "        data = row[:-1]  # Exclude the parity bit\n",
        "        parity_bit = row[-1]\n",
        "        calculated_parity = calculate_parity(data)\n",
        "        errors.append(parity_bit != calculated_parity)\n",
        "    return errors\n",
        "\n",
        "def print_block(block, title):\n",
        "    \"\"\"\n",
        "    Print the block with parity bits for visual verification.\n",
        "    \"\"\"\n",
        "    print(title)\n",
        "    for row in block:\n",
        "        print(' '.join(row))\n",
        "    print()\n",
        "\n",
        "def main():\n",
        "    # Original 4x8 block of data\n",
        "    original_block = [\n",
        "        '10111010',  # Row 1\n",
        "        '11001000',  # Row 2\n",
        "        '00011010',  # Row 3\n",
        "        '11110101'   # Row 4\n",
        "    ]\n",
        "\n",
        "    # Add parity bits to the original block\n",
        "    original_block_with_parity = add_parity_bits(original_block)\n",
        "\n",
        "    # Simulate received block (which could have errors)\n",
        "    received_block_with_parity = original_block_with_parity.copy()\n",
        "    # To simulate an error, you can modify a bit in the received block\n",
        "    # For example, uncomment the following line to introduce an error:\n",
        "    # received_block_with_parity[2] = '000110100'  # Introduce an error in row 3\n",
        "\n",
        "    print_block(original_block_with_parity, \"Original Data Block with Parity Bits:\")\n",
        "\n",
        "    print_block(received_block_with_parity, \"Received Data Block with Parity Bits:\")\n",
        "\n",
        "    errors = check_parity(received_block_with_parity)\n",
        "    error_detected = any(errors)\n",
        "\n",
        "    if error_detected:\n",
        "        for i, error in enumerate(errors):\n",
        "            if error:\n",
        "                print(f\"Error detected in row {i + 1}\")\n",
        "    else:\n",
        "        print(\"No errors detected.\")\n",
        "\n",
        "if __name__ == \"__main__\":\n",
        "    main()\n"
      ]
    }
  ]
}