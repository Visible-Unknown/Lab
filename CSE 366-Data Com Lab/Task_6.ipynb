{
  "nbformat": 4,
  "nbformat_minor": 0,
  "metadata": {
    "colab": {
      "provenance": []
    },
    "kernelspec": {
      "name": "python3",
      "display_name": "Python 3"
    },
    "language_info": {
      "name": "python"
    }
  },
  "cells": [
    {
      "cell_type": "markdown",
      "source": [
        "#### Al-Amin\n",
        "#### Reg. No.: 2020331057\n",
        "##### Session: 2020-2021\n",
        "##### Dept. of Computer Science and Engineering, SUST"
      ],
      "metadata": {
        "id": "X9q5AUg1M8rI"
      }
    },
    {
      "cell_type": "markdown",
      "source": [
        "# CRC (Cyclic Redundancy Code) error detection model"
      ],
      "metadata": {
        "id": "S_jPtv4fLGmo"
      }
    },
    {
      "cell_type": "code",
      "execution_count": null,
      "metadata": {
        "colab": {
          "base_uri": "https://localhost:8080/"
        },
        "id": "g8vQqVcLK7OU",
        "outputId": "dad0ff33-6fa3-4db4-d537-f8cbb4520699"
      },
      "outputs": [
        {
          "output_type": "stream",
          "name": "stdout",
          "text": [
            "Input Data: 1101011111\n",
            "Polynomial: 10011\n",
            "CRC Remainder: 0010\n"
          ]
        }
      ],
      "source": [
        "# Cyclic Redundancy Code (CRC) Error Detection Model\n",
        "def crc_remainder(input_bitstring, polynomial_bitstring, initial_filler):\n",
        "    len_polynomial = len(polynomial_bitstring)\n",
        "    initial_padding = initial_filler * (len_polynomial - 1)\n",
        "    input_padded_array = list(input_bitstring + initial_padding)\n",
        "    polynomial_array = list(polynomial_bitstring)\n",
        "\n",
        "    for i in range(len(input_bitstring)):\n",
        "        if input_padded_array[i] == '1':\n",
        "            for j in range(len(polynomial_bitstring)):\n",
        "                input_padded_array[i + j] = str((int(input_padded_array[i + j]) ^ int(polynomial_array[j])))\n",
        "\n",
        "    return ''.join(input_padded_array)[-len_polynomial+1:]\n",
        "\n",
        "# Example data\n",
        "data = '1101011111'\n",
        "polynomial = '10011'\n",
        "\n",
        "# Calculate CRC\n",
        "crc = crc_remainder(data, polynomial, '0')\n",
        "print(f'Input Data: {data}')\n",
        "print(f'Polynomial: {polynomial}')\n",
        "print(f'CRC Remainder: {crc}')\n"
      ]
    },
    {
      "cell_type": "code",
      "source": [
        "def crc_remainder(input_bitstring, polynomial_bitstring, initial_filler):\n",
        "    len_polynomial = len(polynomial_bitstring)\n",
        "    initial_padding = initial_filler * (len_polynomial - 1)\n",
        "    input_padded_array = list(input_bitstring + initial_padding)\n",
        "    polynomial_array = list(polynomial_bitstring)\n",
        "\n",
        "    for i in range(len(input_bitstring)):\n",
        "        if input_padded_array[i] == '1':\n",
        "            for j in range(len(polynomial_bitstring)):\n",
        "                input_padded_array[i + j] = str((int(input_padded_array[i + j]) ^ int(polynomial_array[j])))\n",
        "\n",
        "    return ''.join(input_padded_array)[-len_polynomial+1:]\n",
        "\n",
        "def format_bitstring(bitstring):\n",
        "    return ' '.join(bitstring)\n",
        "\n",
        "def format_bitlist(bitstring):\n",
        "    return [int(bit) for bit in bitstring]\n",
        "\n",
        "# Example data\n",
        "data = '1101011111'\n",
        "polynomial = '10011'\n",
        "\n",
        "# Calculate CRC\n",
        "crc = crc_remainder(data, polynomial, '0')\n",
        "\n",
        "# Combine data and CRC\n",
        "data_with_crc = data + crc\n",
        "\n",
        "# Print results\n",
        "print(f'Original Data: {format_bitstring(data)}')\n",
        "print(f'Polynomial: {format_bitlist(polynomial)}')\n",
        "print(f'CRC Checksum: {format_bitlist(crc)}')\n",
        "print(f'Data with CRC: {format_bitstring(data_with_crc)}')\n",
        "\n",
        "# Simulate checking the data with CRC (error detection)\n",
        "received_data = data_with_crc  # Here, we assume no transmission error\n",
        "received_crc = crc_remainder(received_data, polynomial, '0')\n",
        "if set(received_crc) == {'0'}:\n",
        "    print('No errors detected.')\n",
        "else:\n",
        "    print('Errors detected.')\n",
        "\n",
        "# Extended example to simulate error detection\n",
        "error_data = '1101011111001'  # Introducing an error\n",
        "received_crc_error = crc_remainder(error_data, polynomial, '0')\n",
        "if set(received_crc_error) == {'0'}:\n",
        "    print('No errors detected in error data (this should not happen).')\n",
        "else:\n",
        "    print('Errors detected in error data.')\n"
      ],
      "metadata": {
        "colab": {
          "base_uri": "https://localhost:8080/"
        },
        "id": "r0M8mNnHLvXu",
        "outputId": "e13929c2-cc3a-42c2-9bf4-dc126651c9f5"
      },
      "execution_count": null,
      "outputs": [
        {
          "output_type": "stream",
          "name": "stdout",
          "text": [
            "Original Data: 1 1 0 1 0 1 1 1 1 1\n",
            "Polynomial: [1, 0, 0, 1, 1]\n",
            "CRC Checksum: [0, 0, 1, 0]\n",
            "Data with CRC: 1 1 0 1 0 1 1 1 1 1 0 0 1 0\n",
            "No errors detected.\n",
            "No errors detected in error data (this should not happen).\n"
          ]
        }
      ]
    }
  ]
}