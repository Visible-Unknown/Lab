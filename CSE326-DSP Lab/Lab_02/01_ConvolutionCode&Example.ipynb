{
 "cells": [
  {
   "cell_type": "code",
   "execution_count": null,
   "metadata": {},
   "outputs": [],
   "source": [
    "x_seq = list(map(int, input(\"Enter the input sequence x[n] (space-separated integers): \").split()))\n",
    "h_seq = list(map(int, input(\"Enter the impulse sequence h[n] (space-separated integers): \").split()))\n",
    "\n",
    "h_reversed = h_seq[::-1]\n",
    "\n",
    "output_len = len(x_seq) + len(h_seq) - 1\n",
    "result = [0] * output_len\n",
    "\n",
    "for n in range(output_len):\n",
    "    temp_sum = 0\n",
    "    for k in range(len(x_seq)):\n",
    "        if 0 <= n - k < len(h_seq):\n",
    "            shifted = h_seq[n - k]\n",
    "            temp_sum += x_seq[k] * shifted\n",
    "    result[n] = temp_sum\n",
    "\n",
    "print(\"\\nInput Sequence x[n]:\", x_seq)\n",
    "print(\"Impulse Sequence h[n]:\", h_seq)\n",
    "print(\"Convolved Sequence y[n] (Manual):\", result)\n",
    "\n",
    "import numpy as np\n",
    "np_conv = np.convolve(x_seq, h_seq, mode='full')\n",
    "print(\"Convolved Sequence y[n] (np.convolve):\", list(np_conv))\n",
    "\n",
    "if result == list(np_conv):\n",
    "    print(\"\\nManual convolution matches the library function result!\")\n",
    "else:\n",
    "    print(\"\\nMismatch between manual and library convolution results!\")\n",
    "    print(\"Difference:\", [manual - lib for manual, lib in zip(result, np_conv)])"
   ]
  },
  {
   "cell_type": "code",
   "execution_count": null,
   "metadata": {},
   "outputs": [],
   "source": []
  }
 ],
 "metadata": {
  "kernelspec": {
   "display_name": "Python 3",
   "language": "python",
   "name": "python3"
  },
  "language_info": {
   "codemirror_mode": {
    "name": "ipython",
    "version": 3
   },
   "file_extension": ".py",
   "mimetype": "text/x-python",
   "name": "python",
   "nbconvert_exporter": "python",
   "pygments_lexer": "ipython3",
   "version": "3.12.6"
  }
 },
 "nbformat": 4,
 "nbformat_minor": 2
}
